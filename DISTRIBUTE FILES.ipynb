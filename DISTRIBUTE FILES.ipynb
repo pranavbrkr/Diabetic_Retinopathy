{
 "cells": [
  {
   "cell_type": "code",
   "execution_count": 1,
   "metadata": {},
   "outputs": [],
   "source": [
    "import pandas as pd\n",
    "import shutil\n",
    "import os\n",
    "from tqdm import tqdm"
   ]
  },
  {
   "cell_type": "code",
   "execution_count": 2,
   "metadata": {},
   "outputs": [],
   "source": [
    "FROM_CONT = 'F:/DR/TestFinal/'\n",
    "\n",
    "IMAGE_LABEL_FILE = \"F:/DR/DRLabelscommon.csv\""
   ]
  },
  {
   "cell_type": "code",
   "execution_count": 3,
   "metadata": {},
   "outputs": [],
   "source": [
    "df = pd.read_csv(IMAGE_LABEL_FILE)\n",
    "df.set_index('image', inplace=True)"
   ]
  },
  {
   "cell_type": "code",
   "execution_count": 4,
   "metadata": {},
   "outputs": [],
   "source": [
    "def image_label(img_name):\n",
    "    img_name = img_name.split('.')[0]\n",
    "    return df.loc[img_name].values"
   ]
  },
  {
   "cell_type": "code",
   "execution_count": 5,
   "metadata": {},
   "outputs": [],
   "source": [
    "def copy_files(FROM):\n",
    "    p1 = \"F:/DR/CONT_SEPERATE/\"\n",
    "    for img in tqdm(os.listdir(FROM)):\n",
    "        label = image_label(img)\n",
    "        path = os.path.join(FROM,img)\n",
    "        if label == 0:\n",
    "         shutil.copy2(path, p1+'0/'+img)\n",
    "        elif label == 1:\n",
    "         shutil.copy2(path, p1+'1/'+img)\n",
    "        elif label == 2:\n",
    "         shutil.copy2(path, p1+'2/'+img)\n",
    "        elif label == 3:\n",
    "         shutil.copy2(path, p1+'3/'+img)\n",
    "        else:\n",
    "         shutil.copy2(path, p1+'4/'+img)"
   ]
  },
  {
   "cell_type": "code",
   "execution_count": 6,
   "metadata": {},
   "outputs": [
    {
     "name": "stderr",
     "output_type": "stream",
     "text": [
      "100%|██████████████████████████████████████████████████████████████████████████████| 9673/9673 [07:33<00:00, 21.33it/s]\n"
     ]
    }
   ],
   "source": [
    "copy_files(FROM_CONT)"
   ]
  }
 ],
 "metadata": {
  "kernelspec": {
   "display_name": "Python 3",
   "language": "python",
   "name": "python3"
  },
  "language_info": {
   "codemirror_mode": {
    "name": "ipython",
    "version": 3
   },
   "file_extension": ".py",
   "mimetype": "text/x-python",
   "name": "python",
   "nbconvert_exporter": "python",
   "pygments_lexer": "ipython3",
   "version": "3.6.3"
  }
 },
 "nbformat": 4,
 "nbformat_minor": 2
}
