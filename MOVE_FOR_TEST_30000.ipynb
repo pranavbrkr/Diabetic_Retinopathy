{
 "cells": [
  {
   "cell_type": "code",
   "execution_count": 1,
   "metadata": {},
   "outputs": [],
   "source": [
    "import numpy as np\n",
    "import os\n",
    "from random import shuffle\n",
    "from tqdm import tqdm\n",
    "import shutil"
   ]
  },
  {
   "cell_type": "code",
   "execution_count": 2,
   "metadata": {},
   "outputs": [],
   "source": [
    "FROM = \"F:/DR/CONT_SEPERATE/\" #parent dir of 0,1,2,3,4 sub dir.\n",
    "TO = \"F:/DR/TestFinal/\"  #centralized Test"
   ]
  },
  {
   "cell_type": "code",
   "execution_count": 3,
   "metadata": {},
   "outputs": [
    {
     "name": "stdout",
     "output_type": "stream",
     "text": [
      "53658\n"
     ]
    },
    {
     "name": "stderr",
     "output_type": "stream",
     "text": [
      "100%|████████████████████████████████████████████████████████████████████████████| 6000/6000 [00:02<00:00, 2564.63it/s]\n"
     ]
    },
    {
     "name": "stdout",
     "output_type": "stream",
     "text": [
      "29036\n"
     ]
    },
    {
     "name": "stderr",
     "output_type": "stream",
     "text": [
      "100%|█████████████████████████████████████████████████████████████████████████████| 6000/6000 [00:09<00:00, 614.62it/s]\n"
     ]
    },
    {
     "name": "stdout",
     "output_type": "stream",
     "text": [
      "30653\n"
     ]
    },
    {
     "name": "stderr",
     "output_type": "stream",
     "text": [
      "100%|████████████████████████████████████████████████████████████████████████████| 6000/6000 [00:02<00:00, 2082.95it/s]\n"
     ]
    },
    {
     "name": "stdout",
     "output_type": "stream",
     "text": [
      "27246\n"
     ]
    },
    {
     "name": "stderr",
     "output_type": "stream",
     "text": [
      "100%|█████████████████████████████████████████████████████████████████████████████| 6000/6000 [00:12<00:00, 468.83it/s]\n"
     ]
    },
    {
     "name": "stdout",
     "output_type": "stream",
     "text": [
      "26520\n"
     ]
    },
    {
     "name": "stderr",
     "output_type": "stream",
     "text": [
      "100%|████████████████████████████████████████████████████████████████████████████| 6000/6000 [00:02<00:00, 2511.32it/s]\n"
     ]
    }
   ],
   "source": [
    "listimg = np.array(os.listdir(FROM+'0/'))\n",
    "shuffle(listimg)\n",
    "print(listimg.size)\n",
    "finalimg = listimg[np.random.choice(listimg.size, 6000, replace=False)]\n",
    "for img in tqdm(finalimg):\n",
    "    path = os.path.join(FROM+'0/',img)\n",
    "    shutil.move(path, TO+img)\n",
    "    \n",
    "\n",
    "listimg = np.array(os.listdir(FROM+'1/'))\n",
    "shuffle(listimg)\n",
    "print(listimg.size)\n",
    "finalimg = listimg[np.random.choice(listimg.size, 6000, replace=False)]\n",
    "for img in tqdm(finalimg):\n",
    "    path = os.path.join(FROM+'1/',img)\n",
    "    shutil.move(path, TO+img)\n",
    "    \n",
    "    \n",
    "listimg = np.array(os.listdir(FROM+'2/'))\n",
    "shuffle(listimg)\n",
    "print(listimg.size)\n",
    "finalimg = listimg[np.random.choice(listimg.size, 6000, replace=False)]\n",
    "for img in tqdm(finalimg):\n",
    "    path = os.path.join(FROM+'2/',img)\n",
    "    shutil.move(path, TO+img)\n",
    "    \n",
    "    \n",
    "listimg = np.array(os.listdir(FROM+'3/'))\n",
    "shuffle(listimg)\n",
    "print(listimg.size)\n",
    "finalimg = listimg[np.random.choice(listimg.size, 6000, replace=False)]\n",
    "for img in tqdm(finalimg):\n",
    "    path = os.path.join(FROM+'3/',img)\n",
    "    shutil.move(path, TO+img)\n",
    "    \n",
    "    \n",
    "listimg = np.array(os.listdir(FROM+'4/'))\n",
    "shuffle(listimg)\n",
    "print(listimg.size)\n",
    "finalimg = listimg[np.random.choice(listimg.size, 6000, replace=False)]\n",
    "for img in tqdm(finalimg):\n",
    "    path = os.path.join(FROM+'4/',img)\n",
    "    shutil.move(path, TO+img)\n",
    "    "
   ]
  }
 ],
 "metadata": {
  "kernelspec": {
   "display_name": "Python 3",
   "language": "python",
   "name": "python3"
  },
  "language_info": {
   "codemirror_mode": {
    "name": "ipython",
    "version": 3
   },
   "file_extension": ".py",
   "mimetype": "text/x-python",
   "name": "python",
   "nbconvert_exporter": "python",
   "pygments_lexer": "ipython3",
   "version": "3.6.3"
  }
 },
 "nbformat": 4,
 "nbformat_minor": 2
}
