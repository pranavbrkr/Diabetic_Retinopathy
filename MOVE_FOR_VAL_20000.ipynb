{
 "cells": [
  {
   "cell_type": "code",
   "execution_count": 1,
   "metadata": {},
   "outputs": [],
   "source": [
    "import numpy as np\n",
    "import os\n",
    "from random import shuffle\n",
    "from tqdm import tqdm\n",
    "import shutil"
   ]
  },
  {
   "cell_type": "code",
   "execution_count": 2,
   "metadata": {},
   "outputs": [],
   "source": [
    "FROM = \"F:/DR/CONT_SEPERATE/\" #parent dir of 0,1,2,3,4 sub dir.\n",
    "TO = \"F:/DR/ValFinal/\"  #centralized ValFinal"
   ]
  },
  {
   "cell_type": "code",
   "execution_count": 3,
   "metadata": {},
   "outputs": [
    {
     "name": "stdout",
     "output_type": "stream",
     "text": [
      "59099\n"
     ]
    },
    {
     "name": "stderr",
     "output_type": "stream",
     "text": [
      "100%|██████████████████████████████████████████████████████████████████████████████| 200/200 [00:00<00:00, 2398.48it/s]\n"
     ]
    },
    {
     "name": "stdout",
     "output_type": "stream",
     "text": [
      "5606\n"
     ]
    },
    {
     "name": "stderr",
     "output_type": "stream",
     "text": [
      "100%|██████████████████████████████████████████████████████████████████████████████| 200/200 [00:00<00:00, 1818.30it/s]\n"
     ]
    },
    {
     "name": "stdout",
     "output_type": "stream",
     "text": [
      "11940\n"
     ]
    },
    {
     "name": "stderr",
     "output_type": "stream",
     "text": [
      "100%|██████████████████████████████████████████████████████████████████████████████| 200/200 [00:00<00:00, 2275.38it/s]\n"
     ]
    },
    {
     "name": "stdout",
     "output_type": "stream",
     "text": [
      "1916\n"
     ]
    },
    {
     "name": "stderr",
     "output_type": "stream",
     "text": [
      "100%|██████████████████████████████████████████████████████████████████████████████| 200/200 [00:00<00:00, 2070.71it/s]\n"
     ]
    },
    {
     "name": "stdout",
     "output_type": "stream",
     "text": [
      "1726\n"
     ]
    },
    {
     "name": "stderr",
     "output_type": "stream",
     "text": [
      "100%|██████████████████████████████████████████████████████████████████████████████| 200/200 [00:00<00:00, 3517.01it/s]\n"
     ]
    }
   ],
   "source": [
    "listimg = np.array(os.listdir(FROM+'0/'))\n",
    "shuffle(listimg)\n",
    "print(listimg.size)\n",
    "finalimg = listimg[np.random.choice(listimg.size, 4000, replace=False)]\n",
    "for img in tqdm(finalimg):\n",
    "    path = os.path.join(FROM+'0/',img)\n",
    "    shutil.move(path, TO+img)\n",
    "    \n",
    "\n",
    "listimg = np.array(os.listdir(FROM+'1/'))\n",
    "shuffle(listimg)\n",
    "print(listimg.size)\n",
    "finalimg = listimg[np.random.choice(listimg.size, 4000, replace=False)]\n",
    "for img in tqdm(finalimg):\n",
    "    path = os.path.join(FROM+'1/',img)\n",
    "    shutil.move(path, TO+img)\n",
    "    \n",
    "    \n",
    "listimg = np.array(os.listdir(FROM+'2/'))\n",
    "shuffle(listimg)\n",
    "print(listimg.size)\n",
    "finalimg = listimg[np.random.choice(listimg.size, 4000, replace=False)]\n",
    "for img in tqdm(finalimg):\n",
    "    path = os.path.join(FROM+'2/',img)\n",
    "    shutil.move(path, TO+img)\n",
    "    \n",
    "    \n",
    "listimg = np.array(os.listdir(FROM+'3/'))\n",
    "shuffle(listimg)\n",
    "print(listimg.size)\n",
    "finalimg = listimg[np.random.choice(listimg.size, 4000, replace=False)]\n",
    "for img in tqdm(finalimg):\n",
    "    path = os.path.join(FROM+'3/',img)\n",
    "    shutil.move(path, TO+img)\n",
    "    \n",
    "    \n",
    "listimg = np.array(os.listdir(FROM+'4/'))\n",
    "shuffle(listimg)\n",
    "print(listimg.size)\n",
    "finalimg = listimg[np.random.choice(listimg.size, 4000, replace=False)]\n",
    "for img in tqdm(finalimg):\n",
    "    path = os.path.join(FROM+'4/',img)\n",
    "    shutil.move(path, TO+img)\n",
    "    "
   ]
  }
 ],
 "metadata": {
  "kernelspec": {
   "display_name": "Python 3",
   "language": "python",
   "name": "python3"
  },
  "language_info": {
   "codemirror_mode": {
    "name": "ipython",
    "version": 3
   },
   "file_extension": ".py",
   "mimetype": "text/x-python",
   "name": "python",
   "nbconvert_exporter": "python",
   "pygments_lexer": "ipython3",
   "version": "3.7.1"
  }
 },
 "nbformat": 4,
 "nbformat_minor": 2
}
