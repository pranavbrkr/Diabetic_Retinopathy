{
 "cells": [
  {
   "cell_type": "code",
   "execution_count": 1,
   "metadata": {},
   "outputs": [],
   "source": [
    "import numpy as np\n",
    "import os\n",
    "from tqdm import tqdm\n",
    "import shutil"
   ]
  },
  {
   "cell_type": "code",
   "execution_count": 2,
   "metadata": {},
   "outputs": [],
   "source": [
    "FROM = \"F:/DR/CONT_SEPERATE/2/\" #SELECT DIR TO UNAUGMENT\n",
    "TO = \"F:/DR/DELFINAL/\" #MOVE THAT AUG FILES IN(NOT SEPERATE)"
   ]
  },
  {
   "cell_type": "code",
   "execution_count": 3,
   "metadata": {},
   "outputs": [
    {
     "name": "stdout",
     "output_type": "stream",
     "text": [
      "18803\n"
     ]
    },
    {
     "name": "stderr",
     "output_type": "stream",
     "text": [
      "100%|██████████████████████████████████████████████████████████████████████████| 18803/18803 [00:02<00:00, 6892.13it/s]\n"
     ]
    },
    {
     "name": "stdout",
     "output_type": "stream",
     "text": [
      "DONE\n"
     ]
    }
   ],
   "source": [
    "# listimg = np.array(os.listdir(FROM+'3/'))\n",
    "# print(listimg.size)\n",
    "# for img in tqdm(listimg):\n",
    "#     path = os.path.join(FROM+'3/',img)\n",
    "#     tot = img.split('.');\n",
    "#     if len(tot) == 2:\n",
    "#         continue\n",
    "#     shutil.move(path, TO+img)\n",
    "    \n",
    "    \n",
    "listimg = np.array(os.listdir(FROM))\n",
    "print(listimg.size)\n",
    "for img in tqdm(listimg):\n",
    "    path = os.path.join(FROM,img)\n",
    "    tot = img.split('.');\n",
    "    if len(tot) == 2:\n",
    "        continue\n",
    "    shutil.move(path, TO+img)\n",
    "    \n",
    "    \n",
    "    \n",
    "print(\"DONE\")"
   ]
  }
 ],
 "metadata": {
  "kernelspec": {
   "display_name": "Python 3",
   "language": "python",
   "name": "python3"
  },
  "language_info": {
   "codemirror_mode": {
    "name": "ipython",
    "version": 3
   },
   "file_extension": ".py",
   "mimetype": "text/x-python",
   "name": "python",
   "nbconvert_exporter": "python",
   "pygments_lexer": "ipython3",
   "version": "3.6.3"
  }
 },
 "nbformat": 4,
 "nbformat_minor": 2
}
