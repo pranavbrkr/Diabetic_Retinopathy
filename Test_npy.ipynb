{
 "cells": [
  {
   "cell_type": "code",
   "execution_count": 1,
   "metadata": {},
   "outputs": [],
   "source": [
    "import numpy as np\n",
    "import pandas as pd\n",
    "import os\n",
    "import cv2\n",
    "from tqdm import tqdm\n",
    "from random import shuffle"
   ]
  },
  {
   "cell_type": "code",
   "execution_count": null,
   "metadata": {},
   "outputs": [],
   "source": [
    "TrainData = np.load(\"F:/DR/Train64x64.npy\")\n",
    "# TestData = np.load(DATA_SAVE_DIR + 'Test_Processed_data.npy')\n",
    "\n",
    "#MAKING DATA READY!!!\n",
    "X_train = np.array([i[0] for i in TrainData]).reshape(-1, 64, 64, 3)\n",
    "Y_train = np.array([i[1] for i in TrainData])\n",
    "\n",
    "# X_test = np.array([i[0] for i in TestData]).reshape(-1, IMAGE_SIZE, IMAGE_SIZE, 3)\n",
    "# Y_test = np.array([i[1] for i in TestData])\n",
    "\n",
    "\n",
    "#CONVERSION DECIMAL LABELS INTO LOGICAL LABELS\n",
    "# Y_train = keras.utils.to_categorical(Y_train, num_classes)\n",
    "# Y_test = keras.utils.to_categorical(Y_test, num_classes)"
   ]
  },
  {
   "cell_type": "code",
   "execution_count": null,
   "metadata": {},
   "outputs": [],
   "source": [
    "print(X_train.shape)\n",
    "print(Y_train.shape)"
   ]
  }
 ],
 "metadata": {
  "kernelspec": {
   "display_name": "Python 3",
   "language": "python",
   "name": "python3"
  },
  "language_info": {
   "codemirror_mode": {
    "name": "ipython",
    "version": 3
   },
   "file_extension": ".py",
   "mimetype": "text/x-python",
   "name": "python",
   "nbconvert_exporter": "python",
   "pygments_lexer": "ipython3",
   "version": "3.7.1"
  }
 },
 "nbformat": 4,
 "nbformat_minor": 2
}
