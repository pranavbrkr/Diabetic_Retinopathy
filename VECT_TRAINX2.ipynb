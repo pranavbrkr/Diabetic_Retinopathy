{
 "cells": [
  {
   "cell_type": "code",
   "execution_count": 1,
   "metadata": {},
   "outputs": [],
   "source": [
    "import numpy as np\n",
    "import os\n",
    "from tqdm import tqdm\n",
    "from random import shuffle\n",
    "import cv2\n",
    "# import shutil"
   ]
  },
  {
   "cell_type": "code",
   "execution_count": 2,
   "metadata": {},
   "outputs": [],
   "source": [
    "# END EVERY PATH WITH A '/'\n",
    "SAVETO = \"F:/DR/Final_NPYs_6March/\"\n",
    "PICKFROM = \"F:/DR/CONT_TRAIN2/\"\n",
    "# MOVETO = \"F:/DR/CONT_TRAIN2/\"\n",
    "IMAGE_SIZE = 80"
   ]
  },
  {
   "cell_type": "code",
   "execution_count": 3,
   "metadata": {},
   "outputs": [],
   "source": [
    "def vectorize():\n",
    "    Vectorized_Data = []\n",
    "    labels = np.array([0,1,2,3,4])\n",
    "    \n",
    "    G_path = PICKFROM+'0/'\n",
    "    label = labels[0]\n",
    "    countt = 0\n",
    "    for img in tqdm(os.listdir(G_path)):\n",
    "#         if countt == 7500:\n",
    "#             break\n",
    "#         countt += 1\n",
    "        path = os.path.join(G_path,img)\n",
    "        image = cv2.resize(cv2.imread(path, cv2.IMREAD_COLOR), (IMAGE_SIZE, IMAGE_SIZE))\n",
    "        image = cv2.cvtColor(image, cv2.COLOR_BGR2RGB)\n",
    "        Vectorized_Data.append([np.array(image), label])\n",
    "#         shutil.move(G_path+img, MOVETO+'0/')\n",
    "        \n",
    "    G_path = PICKFROM+'1/'\n",
    "    label = labels[1]\n",
    "    countt = 0\n",
    "    for img in tqdm(os.listdir(G_path)):\n",
    "#         if countt == 7500:\n",
    "#             break\n",
    "#         countt += 1\n",
    "        path = os.path.join(G_path,img)\n",
    "        image = cv2.resize(cv2.imread(path, cv2.IMREAD_COLOR), (IMAGE_SIZE, IMAGE_SIZE))\n",
    "        image = cv2.cvtColor(image, cv2.COLOR_BGR2RGB)\n",
    "        Vectorized_Data.append([np.array(image), label])\n",
    "#         shutil.move(G_path+img, MOVETO+'1/')\n",
    "        \n",
    "    G_path = PICKFROM+'2/'\n",
    "    label = labels[2]\n",
    "    countt = 0\n",
    "    for img in tqdm(os.listdir(G_path)):\n",
    "#         if countt == 7500:\n",
    "#             break\n",
    "#         countt += 1\n",
    "        path = os.path.join(G_path,img)\n",
    "        image = cv2.resize(cv2.imread(path, cv2.IMREAD_COLOR), (IMAGE_SIZE, IMAGE_SIZE))\n",
    "        image = cv2.cvtColor(image, cv2.COLOR_BGR2RGB)\n",
    "        Vectorized_Data.append([np.array(image), label])\n",
    "#         shutil.move(G_path+img, MOVETO+'2/')\n",
    "        \n",
    "    G_path = PICKFROM+'3/'\n",
    "    label = labels[3]\n",
    "    countt = 0\n",
    "    for img in tqdm(os.listdir(G_path)):\n",
    "#         if countt == 7500:\n",
    "#             break\n",
    "#         countt += 1\n",
    "        path = os.path.join(G_path,img)\n",
    "        image = cv2.resize(cv2.imread(path, cv2.IMREAD_COLOR), (IMAGE_SIZE, IMAGE_SIZE))\n",
    "        image = cv2.cvtColor(image, cv2.COLOR_BGR2RGB)\n",
    "        Vectorized_Data.append([np.array(image), label])\n",
    "#         shutil.move(G_path+img, MOVETO+'3/')\n",
    "        \n",
    "    G_path = PICKFROM+'4/'\n",
    "    label = labels[4]\n",
    "    countt = 0\n",
    "    for img in tqdm(os.listdir(G_path)):\n",
    "#         if countt == 7500:\n",
    "#             break\n",
    "#         countt += 1\n",
    "        path = os.path.join(G_path,img)\n",
    "        image = cv2.resize(cv2.imread(path, cv2.IMREAD_COLOR), (IMAGE_SIZE, IMAGE_SIZE))\n",
    "        image = cv2.cvtColor(image, cv2.COLOR_BGR2RGB)\n",
    "        Vectorized_Data.append([np.array(image), label])\n",
    "#         shutil.move(G_path+img, MOVETO+'4/')\n",
    "    \n",
    "    shuffle(Vectorized_Data)\n",
    "    shuffle(Vectorized_Data)\n",
    "    \n",
    "    np.save(SAVETO +\"Train2\"+ str(IMAGE_SIZE) + 'x' + str(IMAGE_SIZE) + '.npy', Vectorized_Data)\n",
    "    "
   ]
  },
  {
   "cell_type": "code",
   "execution_count": 4,
   "metadata": {},
   "outputs": [
    {
     "name": "stderr",
     "output_type": "stream",
     "text": [
      "100%|██████████████████████████████████████████████████████████████████████████████| 7500/7500 [14:15<00:00,  5.73it/s]\n",
      "100%|██████████████████████████████████████████████████████████████████████████████| 7500/7500 [14:20<00:00,  6.17it/s]\n",
      "100%|██████████████████████████████████████████████████████████████████████████████| 7500/7500 [16:00<00:00,  7.80it/s]\n",
      "100%|██████████████████████████████████████████████████████████████████████████████| 7500/7500 [12:29<00:00, 10.00it/s]\n",
      "100%|██████████████████████████████████████████████████████████████████████████████| 7500/7500 [13:28<00:00,  9.27it/s]\n"
     ]
    }
   ],
   "source": [
    "vectorize()\n",
    "\n",
    "\n",
    "# SET APPROPRIATE PATHS\n",
    "# RUN ENTIRE PROGRAM FOR 7500 TRAIN1 IMAGES\n",
    "# RERUN ENTIRE PROGRAM FOR NEXT 7500 TRAIN2 IMAGES"
   ]
  }
 ],
 "metadata": {
  "kernelspec": {
   "display_name": "Python 3",
   "language": "python",
   "name": "python3"
  },
  "language_info": {
   "codemirror_mode": {
    "name": "ipython",
    "version": 3
   },
   "file_extension": ".py",
   "mimetype": "text/x-python",
   "name": "python",
   "nbconvert_exporter": "python",
   "pygments_lexer": "ipython3",
   "version": "3.6.3"
  }
 },
 "nbformat": 4,
 "nbformat_minor": 2
}
