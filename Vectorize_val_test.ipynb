{
 "cells": [
  {
   "cell_type": "code",
   "execution_count": 1,
   "metadata": {},
   "outputs": [],
   "source": [
    "import numpy as np\n",
    "import pandas as pd\n",
    "import os\n",
    "import cv2\n",
    "from tqdm import tqdm\n",
    "from random import shuffle"
   ]
  },
  {
   "cell_type": "code",
   "execution_count": 2,
   "metadata": {},
   "outputs": [],
   "source": [
    "#add DIRECTORY paths\n",
    "#Training Images Directory\n",
    "VAL_DIR = \"F:/DR/ValFinal/\";\n",
    "#Testing Images Directory\n",
    "TEST_DIR = \"F:/DR/TestFinal/\"\n",
    "#DIRECTORY path of matrix/vectorized data storage\n",
    "DATA_SAVE_DIR = \"F:/DR/\";\n",
    "\n",
    "#CSV FILE of labels corresponding to all the test and train images\n",
    "#write CSV format as::\n",
    "# image label\n",
    "# img_name1 0\n",
    "# img_name2 2\n",
    "IMAGE_LABEL_FILE = \"F:/DR/DRLabelscommon.csv\" \n",
    "\n",
    "#RESIZING IMAGE TO IMAGE_SIZE*IMAGE_SIZE\n",
    "IMAGE_SIZE = 64\n",
    "\n",
    "df = pd.read_csv(IMAGE_LABEL_FILE)\n",
    "df.set_index('image', inplace=True)"
   ]
  },
  {
   "cell_type": "code",
   "execution_count": 3,
   "metadata": {},
   "outputs": [],
   "source": [
    "num_classes = 5"
   ]
  },
  {
   "cell_type": "code",
   "execution_count": 4,
   "metadata": {},
   "outputs": [],
   "source": [
    "def image_label(img_name):\n",
    "    img_name = img_name.split('.')[0]\n",
    "    return df.loc[img_name].values"
   ]
  },
  {
   "cell_type": "code",
   "execution_count": null,
   "metadata": {},
   "outputs": [],
   "source": [
    "def resize_vectorize_image(G_path):\n",
    "    Vectorized_Data = []\n",
    "    for img in tqdm(os.listdir(G_path)):\n",
    "        label = image_label(img)\n",
    "        path = os.path.join(G_path,img)\n",
    "        image = cv2.resize(cv2.imread(path, cv2.IMREAD_COLOR), (IMAGE_SIZE, IMAGE_SIZE))\n",
    "        image = cv2.cvtColor(image, cv2.COLOR_BGR2RGB)\n",
    "        Vectorized_Data.append([np.array(image), label])\n",
    "    shuffle(Vectorized_Data)\n",
    "    if G_path == VAL_DIR:\n",
    "        np.save(DATA_SAVE_DIR + \"Val\" + str(IMAGE_SIZE) + 'x' + str(IMAGE_SIZE) + '.npy', Vectorized_Data)\n",
    "    else:\n",
    "        np.save(DATA_SAVE_DIR + \"Test\" + str(IMAGE_SIZE) + 'x' + str(IMAGE_SIZE) + '.npy', Vectorized_Data)"
   ]
  },
  {
   "cell_type": "code",
   "execution_count": null,
   "metadata": {},
   "outputs": [
    {
     "name": "stderr",
     "output_type": "stream",
     "text": [
      "100%|████████████████████████████████████████████████████████████████████████████| 20000/20000 [50:01<00:00,  7.94it/s]\n"
     ]
    },
    {
     "name": "stdout",
     "output_type": "stream",
     "text": [
      "DONE!!\n"
     ]
    },
    {
     "name": "stderr",
     "output_type": "stream",
     "text": [
      " 99%|████████████████████████████████████████████████████████████████████████▉ | 29569/30000 [1:39:07<01:06,  6.49it/s]"
     ]
    }
   ],
   "source": [
    "#PROCESS THE TRAINING DATA\n",
    "resize_vectorize_image(VAL_DIR)\n",
    "print(\"DONE!!\")\n",
    "# PROCESS THE TESTING DATA\n",
    "resize_vectorize_image(TEST_DIR)\n",
    "print(\"DONE!!\")"
   ]
  },
  {
   "cell_type": "code",
   "execution_count": null,
   "metadata": {},
   "outputs": [],
   "source": [
    "# TrainData = np.load(DATA_SAVE_DIR + 'Train_Processed_data.npy')\n",
    "# TestData = np.load(DATA_SAVE_DIR + 'Test_Processed_data.npy')\n",
    "\n",
    "# #MAKING DATA READY!!!\n",
    "# X_train = np.array([i[0] for i in TrainData]).reshape(-1, IMAGE_SIZE, IMAGE_SIZE, 3)\n",
    "# Y_train = np.array([i[1] for i in TrainData])\n",
    "\n",
    "# X_test = np.array([i[0] for i in TestData]).reshape(-1, IMAGE_SIZE, IMAGE_SIZE, 3)\n",
    "# Y_test = np.array([i[1] for i in TestData])\n",
    "\n",
    "\n",
    "# #CONVERSION DECIMAL LABELS INTO LOGICAL LABELS\n",
    "# Y_train = keras.utils.to_categorical(Y_train, num_classes)\n",
    "# Y_test = keras.utils.to_categorical(Y_test, num_classes)\n",
    "\n",
    "\n"
   ]
  }
 ],
 "metadata": {
  "kernelspec": {
   "display_name": "Python 3",
   "language": "python",
   "name": "python3"
  },
  "language_info": {
   "codemirror_mode": {
    "name": "ipython",
    "version": 3
   },
   "file_extension": ".py",
   "mimetype": "text/x-python",
   "name": "python",
   "nbconvert_exporter": "python",
   "pygments_lexer": "ipython3",
   "version": "3.7.1"
  }
 },
 "nbformat": 4,
 "nbformat_minor": 2
}
