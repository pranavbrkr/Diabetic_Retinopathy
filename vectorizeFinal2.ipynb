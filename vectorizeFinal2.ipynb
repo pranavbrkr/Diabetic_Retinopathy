{
 "cells": [
  {
   "cell_type": "code",
   "execution_count": 1,
   "metadata": {},
   "outputs": [],
   "source": [
    "import numpy as np\n",
    "import os\n",
    "from tqdm import tqdm\n",
    "from random import shuffle\n",
    "import cv2\n",
    "import pandas as pd\n",
    "import shutil"
   ]
  },
  {
   "cell_type": "code",
   "execution_count": 2,
   "metadata": {},
   "outputs": [],
   "source": [
    "PICKFROM = \"F:/DR/TestFinal/\"\n",
    "SAVETO = \"F:/DR/CONT_SEPERATE/\"\n",
    "img_size = 224\n",
    "IMAGE_LABEL_FILE = \"F:/DR/DRLabelscommon.csv\"\n",
    "df = pd.read_csv(IMAGE_LABEL_FILE)\n",
    "df.set_index('image', inplace=True)"
   ]
  },
  {
   "cell_type": "code",
   "execution_count": 3,
   "metadata": {},
   "outputs": [],
   "source": [
    "def image_label(img_name):\n",
    "    img_name = img_name.split('.')[0]\n",
    "    return df.loc[img_name].values"
   ]
  },
  {
   "cell_type": "code",
   "execution_count": 4,
   "metadata": {},
   "outputs": [],
   "source": [
    "def resize_vectorize_image(G_path):\n",
    "#     Vectorized_Data = []\n",
    "    imgname_undo = os.listdir(G_path)\n",
    "    np.save(SAVETO + \"undoarray.npy\",imgname_undo)\n",
    "    print(\"NP created\")\n",
    "    for img in tqdm(os.listdir(G_path)):\n",
    "        path = os.path.join(G_path,img)\n",
    "        label = image_label(img)\n",
    "        if label == 0:\n",
    "             shutil.move(path, SAVETO+\"0/\"+img)\n",
    "        elif label == 1:\n",
    "             shutil.move(path, SAVETO+\"1/\"+img)\n",
    "        elif label == 2:\n",
    "             shutil.move(path, SAVETO+\"2/\"+img)\n",
    "        elif label == 3:\n",
    "             shutil.move(path, SAVETO+\"3/\"+img)\n",
    "        elif label == 4:\n",
    "             shutil.move(path, SAVETO+\"4/\"+img)\n",
    "        \n",
    "#         image = cv2.imread(path, cv2.IMREAD_COLOR)\n",
    "#         image = cv2.resize(image,(img_size,img_size))\n",
    "#         image = cv2.cvtColor(image, cv2.COLOR_BGR2RGB)\n",
    "#         Vectorized_Data.append([np.array(image), label])\n",
    "#     shuffle(Vectorized_Data)\n",
    "#     np.save(SAVETO + 'final224x224.npy', Vectorized_Data)"
   ]
  },
  {
   "cell_type": "code",
   "execution_count": 5,
   "metadata": {},
   "outputs": [
    {
     "name": "stdout",
     "output_type": "stream",
     "text": [
      "NP created\n"
     ]
    },
    {
     "name": "stderr",
     "output_type": "stream",
     "text": [
      "100%|████████████████████████████████████████████████████████████████████████████| 1000/1000 [00:00<00:00, 1745.24it/s]\n"
     ]
    },
    {
     "name": "stdout",
     "output_type": "stream",
     "text": [
      "DONE\n"
     ]
    }
   ],
   "source": [
    "resize_vectorize_image(PICKFROM)\n",
    "print(\"DONE\")"
   ]
  },
  {
   "cell_type": "code",
   "execution_count": 6,
   "metadata": {},
   "outputs": [],
   "source": [
    "# import matplotlib.pyplot as plt\n",
    "# import matplotlib.image as mpimg\n",
    "# img = np.load(SAVETO + 'final224x224.npy')\n",
    "\n",
    "# i = img[9]\n",
    "# image = np.array(i[0]).reshape(224, 224, 3)\n",
    "# plt.imshow(image)\n",
    "# plt.show()\n"
   ]
  }
 ],
 "metadata": {
  "kernelspec": {
   "display_name": "Python 3",
   "language": "python",
   "name": "python3"
  },
  "language_info": {
   "codemirror_mode": {
    "name": "ipython",
    "version": 3
   },
   "file_extension": ".py",
   "mimetype": "text/x-python",
   "name": "python",
   "nbconvert_exporter": "python",
   "pygments_lexer": "ipython3",
   "version": "3.6.3"
  }
 },
 "nbformat": 4,
 "nbformat_minor": 2
}
