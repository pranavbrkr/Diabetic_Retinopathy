{
 "cells": [
  {
   "cell_type": "code",
   "execution_count": 1,
   "metadata": {},
   "outputs": [],
   "source": [
    "import numpy as np\n",
    "import os\n",
    "from tqdm import tqdm\n",
    "from random import shuffle\n",
    "import shutil\n",
    "import cv2"
   ]
  },
  {
   "cell_type": "code",
   "execution_count": 2,
   "metadata": {},
   "outputs": [],
   "source": [
    "PICKFROM = \"F:/DR/CONT_SEPERATE/\"\n",
    "SAVETO = \"F:/DR/\"\n",
    "\n",
    "IMAGE_SIZE = 64"
   ]
  },
  {
   "cell_type": "code",
   "execution_count": 3,
   "metadata": {},
   "outputs": [],
   "source": [
    "def vectorize():\n",
    "    Vectorized_Data = []\n",
    "    labels = np.array([0,1,2,3,4])\n",
    "    \n",
    "    G_path = PICKFROM+'0/'\n",
    "    label = labels[0]\n",
    "    countt = 0\n",
    "    for img in tqdm(os.listdir(G_path)):\n",
    "        if countt <= 20000:\n",
    "            countt += 1\n",
    "            continue\n",
    "        elif countt == 25000:\n",
    "            break\n",
    "        countt += 1\n",
    "        path = os.path.join(G_path,img)\n",
    "        image = cv2.resize(cv2.imread(path, cv2.IMREAD_COLOR), (IMAGE_SIZE, IMAGE_SIZE))\n",
    "        image = cv2.cvtColor(image, cv2.COLOR_BGR2RGB)\n",
    "        Vectorized_Data.append([np.array(image), label])\n",
    "        \n",
    "#     G_path = PICKFROM+'1/'\n",
    "#     label = labels[1]\n",
    "#     countt = 0\n",
    "#     for img in tqdm(os.listdir(G_path)):\n",
    "#         if countt == 20000:\n",
    "#             break\n",
    "#         countt += 1\n",
    "#         path = os.path.join(G_path,img)\n",
    "#         image = cv2.resize(cv2.imread(path, cv2.IMREAD_COLOR), (IMAGE_SIZE, IMAGE_SIZE))\n",
    "#         image = cv2.cvtColor(image, cv2.COLOR_BGR2RGB)\n",
    "#         Vectorized_Data.append([np.array(image), label])\n",
    "        \n",
    "#     G_path = PICKFROM+'2/'\n",
    "#     label = labels[2]\n",
    "#     countt = 0\n",
    "#     for img in tqdm(os.listdir(G_path)):\n",
    "#         if countt == 20000:\n",
    "#             break\n",
    "#         countt += 1\n",
    "#         path = os.path.join(G_path,img)\n",
    "#         image = cv2.resize(cv2.imread(path, cv2.IMREAD_COLOR), (IMAGE_SIZE, IMAGE_SIZE))\n",
    "#         image = cv2.cvtColor(image, cv2.COLOR_BGR2RGB)\n",
    "#         Vectorized_Data.append([np.array(image), label])\n",
    "        \n",
    "#     G_path = PICKFROM+'3/'\n",
    "#     label = labels[3]\n",
    "#     countt = 0\n",
    "#     for img in tqdm(os.listdir(G_path)):\n",
    "#         if countt == 20000:\n",
    "#             break\n",
    "#         countt += 1\n",
    "#         path = os.path.join(G_path,img)\n",
    "#         image = cv2.resize(cv2.imread(path, cv2.IMREAD_COLOR), (IMAGE_SIZE, IMAGE_SIZE))\n",
    "#         image = cv2.cvtColor(image, cv2.COLOR_BGR2RGB)\n",
    "#         Vectorized_Data.append([np.array(image), label])\n",
    "        \n",
    "#     G_path = PICKFROM+'4/'\n",
    "#     label = labels[4]\n",
    "#     countt = 0\n",
    "#     for img in tqdm(os.listdir(G_path)):\n",
    "#         if countt == 20000:\n",
    "#             break\n",
    "#         countt += 1\n",
    "#         path = os.path.join(G_path,img)\n",
    "#         image = cv2.resize(cv2.imread(path, cv2.IMREAD_COLOR), (IMAGE_SIZE, IMAGE_SIZE))\n",
    "#         image = cv2.cvtColor(image, cv2.COLOR_BGR2RGB)\n",
    "#         Vectorized_Data.append([np.array(image), label])\n",
    "    \n",
    "#     shuffle(Vectorized_Data)\n",
    "    shuffle(Vectorized_Data)\n",
    "    np.save(SAVETO + \"Valclass0\" + str(IMAGE_SIZE) + 'x' + str(IMAGE_SIZE) + '.npy', Vectorized_Data)\n",
    "    print(\"DONE!!!\")"
   ]
  },
  {
   "cell_type": "code",
   "execution_count": 4,
   "metadata": {
    "scrolled": true
   },
   "outputs": [
    {
     "name": "stderr",
     "output_type": "stream",
     "text": [
      " 52%|██████████████████████████████████████▊                                   | 24999/47658 [12:28<1:04:29,  5.86it/s]"
     ]
    },
    {
     "name": "stdout",
     "output_type": "stream",
     "text": [
      "DONE!!!\n"
     ]
    },
    {
     "name": "stderr",
     "output_type": "stream",
     "text": [
      "\r",
      " 52%|██████████████████████████████████████▊                                   | 24999/47658 [12:40<1:04:29,  5.86it/s]"
     ]
    }
   ],
   "source": [
    "vectorize()"
   ]
  }
 ],
 "metadata": {
  "kernelspec": {
   "display_name": "Python 3",
   "language": "python",
   "name": "python3"
  },
  "language_info": {
   "codemirror_mode": {
    "name": "ipython",
    "version": 3
   },
   "file_extension": ".py",
   "mimetype": "text/x-python",
   "name": "python",
   "nbconvert_exporter": "python",
   "pygments_lexer": "ipython3",
   "version": "3.6.3"
  }
 },
 "nbformat": 4,
 "nbformat_minor": 2
}
